{
  "nbformat": 4,
  "nbformat_minor": 0,
  "metadata": {
    "colab": {
      "provenance": []
    },
    "kernelspec": {
      "name": "python3",
      "display_name": "Python 3"
    },
    "language_info": {
      "name": "python"
    }
  },
  "cells": [
    {
      "cell_type": "code",
      "execution_count": 53,
      "metadata": {
        "id": "JbxxQOD2t2di"
      },
      "outputs": [],
      "source": [
        "%matplotlib inline\n",
        "import matplotlib.pyplot as plt\n",
        "import matplotlib as mpl\n",
        "import pandas as pd\n",
        "\n",
        "import shutil\n",
        "import sys\n",
        "import os.path\n",
        "\n",
        "if not shutil.which(\"pyomo\"):\n",
        "    !pip install -q pyomo\n",
        "    assert(shutil.which(\"pyomo\"))\n",
        "\n",
        "if not (shutil.which(\"cbc\") or os.path.isfile(\"cbc\")):\n",
        "    if \"google.colab\" in sys.modules:\n",
        "        !apt-get install -y -qq coinor-cbc\n",
        "    else:\n",
        "        try:\n",
        "            !conda install -c conda-forge coincbc\n",
        "        except:\n",
        "            pass\n",
        "\n",
        "assert(shutil.which(\"cbc\") or os.path.isfile(\"cbc\"))\n",
        "from pyomo.environ import *\n",
        "from pyomo.gdp import *"
      ]
    },
    {
      "cell_type": "code",
      "source": [
        "#пример 3. длительность всех операций = 1\n",
        "TASKS = {\n",
        "    # Для J1\n",
        "    ('J_1', 'M_1') : {'dur': 1, 'prec': None},  # Первая операция J1 на M1\n",
        "    ('J_1', 'M_3') : {'dur': 1, 'prec': ('J_1', 'M_1')},  # После M1 идет M3\n",
        "    ('J_1', 'M_2') : {'dur': 1, 'prec': ('J_1', 'M_3')},  # После M3 идет M2\n",
        "    ('J_1_1', 'M_1') : {'dur': 1, 'prec': ('J_1', 'M_2')},  # После M2 снова идет M1\n",
        "\n",
        "    # Для J2\n",
        "    ('J_2', 'M_2') : {'dur': 1, 'prec': None},  # Первая операция J2 на M2\n",
        "    ('J_2', 'M_3') : {'dur': 1, 'prec': ('J_2', 'M_2')},  # После M2 идет M3\n",
        "\n",
        "    # Для J3\n",
        "    ('J_3', 'M_3') : {'dur': 1, 'prec': None},  # Первая операция J3 на M3\n",
        "    ('J_3', 'M_1') : {'dur': 1, 'prec': ('J_3', 'M_3')},  # После M3 идет M1\n",
        "\n",
        "    # Для J4\n",
        "    ('J_4', 'M_1') : {'dur': 1, 'prec': None},  # Первая операция J4 на M1\n",
        "    ('J_4', 'M_3') : {'dur': 1, 'prec': ('J_4', 'M_1')},  # После M1 идет M3\n",
        "    ('J_4_1', 'M_1') : {'dur': 1, 'prec': ('J_4', 'M_3')},  # После M3 снова идет M1\n",
        "\n",
        "    # Для J5\n",
        "    ('J_5', 'M_3') : {'dur': 1, 'prec': None},  # Первая операция J5 на M3\n",
        "    ('J_5', 'M_1') : {'dur': 1, 'prec': ('J_5', 'M_3')},  # После M3 идет M1\n",
        "    ('J_5', 'M_2') : {'dur': 1, 'prec': ('J_5', 'M_1')},  # После M1 идет M2\n",
        "    ('J_5_1', 'M_3') : {'dur': 1, 'prec': ('J_5', 'M_2')}  # После M2 снова идет M3\n",
        "}\n"
      ],
      "metadata": {
        "id": "jADU-FZc78S2"
      },
      "execution_count": 54,
      "outputs": []
    },
    {
      "cell_type": "code",
      "source": [
        "def jobshop_model(TASKS):\n",
        "\n",
        "    model = ConcreteModel()\n",
        "\n",
        "    # tasks is a two dimensional set of (j,m) constructed from the dictionary keys\n",
        "    model.TASKS = Set(initialize = TASKS.keys(), dimen=2)\n",
        "\n",
        "    # the set of jobs is constructed from a python set\n",
        "    model.JOBS = Set(initialize = list(set([j for (j,m) in model.TASKS])))\n",
        "\n",
        "    # set of machines is constructed from a python set\n",
        "    model.MACHINES = Set(initialize = list(set([m for (j,m) in model.TASKS])))\n",
        "\n",
        "    # the order of tasks is constructed as a cross-product of tasks and filtering\n",
        "    model.TASKORDER = Set(initialize = model.TASKS * model.TASKS, dimen=4,\n",
        "        filter = lambda model, j, m, k, n: (k,n) == TASKS[(j,m)]['prec'])\n",
        "\n",
        "    # the set of disjunctions is cross-product of jobs, jobs, and machines\n",
        "    model.DISJUNCTIONS = Set(initialize = model.JOBS * model.JOBS * model.MACHINES, dimen=3,\n",
        "        filter = lambda model, j, k, m: j < k and (j,m) in model.TASKS and (k,m) in model.TASKS)\n",
        "\n",
        "    # load duration data into a model parameter for later access\n",
        "    model.dur = Param(model.TASKS, initialize=lambda model, j, m: TASKS[(j,m)]['dur'])\n",
        "\n",
        "    # establish an upper bound on makespan\n",
        "    ub = sum([model.dur[j, m] for (j,m) in model.TASKS])\n",
        "\n",
        "    # create decision variables\n",
        "    model.makespan = Var(bounds=(0, ub))\n",
        "    model.start = Var(model.TASKS, bounds=(0, ub))\n",
        "\n",
        "    model.objective = Objective(expr = model.makespan, sense = minimize)\n",
        "\n",
        "    model.finish = Constraint(model.TASKS, rule=lambda model, j, m:\n",
        "        model.start[j,m] + model.dur[j,m] <= model.makespan)\n",
        "\n",
        "    model.preceding = Constraint(model.TASKORDER, rule=lambda model, j, m, k, n:\n",
        "        model.start[k,n] + model.dur[k,n] <= model.start[j,m])\n",
        "\n",
        "    model.disjunctions = Disjunction(model.DISJUNCTIONS, rule=lambda model,j,k,m:\n",
        "        [model.start[j,m] + model.dur[j,m] <= model.start[k,m],\n",
        "         model.start[k,m] + model.dur[k,m] <= model.start[j,m]])\n",
        "\n",
        "    TransformationFactory('gdp.hull').apply_to(model)\n",
        "    return model\n",
        "\n",
        "jobshop_model(TASKS)"
      ],
      "metadata": {
        "colab": {
          "base_uri": "https://localhost:8080/"
        },
        "id": "thyv2fRq1X81",
        "outputId": "c7e538d4-5762-43ed-abf1-cdea548a6dab"
      },
      "execution_count": 55,
      "outputs": [
        {
          "output_type": "execute_result",
          "data": {
            "text/plain": [
              "<pyomo.core.base.PyomoModel.ConcreteModel at 0x7a7c8d2f90d0>"
            ]
          },
          "metadata": {},
          "execution_count": 55
        }
      ]
    },
    {
      "cell_type": "code",
      "source": [
        "jobs_my = {\n",
        "    'J_1_1' : 'J_1',\n",
        "    'J_4_1' : 'J_4',\n",
        "    'J_5_1' : 'J_5',\n",
        "    'J_1' : 'J_1',\n",
        "    'J_2' : 'J_2',\n",
        "    'J_3' : 'J_3',\n",
        "    'J_4' : 'J_4',\n",
        "    'J_5' : 'J_5'\n",
        "}\n",
        "\n",
        "print(jobs_my.get(\"J_4\"))"
      ],
      "metadata": {
        "colab": {
          "base_uri": "https://localhost:8080/"
        },
        "id": "B71YprOcpFah",
        "outputId": "57382316-a909-4ce2-e990-3e30c59ee304"
      },
      "execution_count": 56,
      "outputs": [
        {
          "output_type": "stream",
          "name": "stdout",
          "text": [
            "J_4\n"
          ]
        }
      ]
    },
    {
      "cell_type": "code",
      "source": [
        "def jobshop_solve(model):\n",
        "    SolverFactory('cbc').solve(model)\n",
        "\n",
        "    results = [{'Job': jobs_my.get(j),\n",
        "                'Machine': m,\n",
        "                'Start': model.start[j, m](),\n",
        "                'Duration': model.dur[j,m],\n",
        "                'Finish': model.start[(j, m)]() + model.dur[j,m]}\n",
        "               for j,m in model.TASKS]\n",
        "    return results\n",
        "\n",
        "def jobshop(TASKS):\n",
        "    return jobshop_solve(jobshop_model(TASKS))\n",
        "\n",
        "results = jobshop(TASKS)\n",
        "results"
      ],
      "metadata": {
        "colab": {
          "base_uri": "https://localhost:8080/"
        },
        "id": "-d6NR2yJG7Nx",
        "outputId": "6dcb828e-2142-43b0-aa37-afff350ba989"
      },
      "execution_count": 57,
      "outputs": [
        {
          "output_type": "execute_result",
          "data": {
            "text/plain": [
              "[{'Job': 'J_1', 'Machine': 'M_1', 'Start': 0.0, 'Duration': 1, 'Finish': 1.0},\n",
              " {'Job': 'J_1', 'Machine': 'M_3', 'Start': 2.0, 'Duration': 1, 'Finish': 3.0},\n",
              " {'Job': 'J_1', 'Machine': 'M_2', 'Start': 3.0, 'Duration': 1, 'Finish': 4.0},\n",
              " {'Job': 'J_1', 'Machine': 'M_1', 'Start': 5.0, 'Duration': 1, 'Finish': 6.0},\n",
              " {'Job': 'J_2', 'Machine': 'M_2', 'Start': 0.0, 'Duration': 1, 'Finish': 1.0},\n",
              " {'Job': 'J_2', 'Machine': 'M_3', 'Start': 5.0, 'Duration': 1, 'Finish': 6.0},\n",
              " {'Job': 'J_3', 'Machine': 'M_3', 'Start': 1.0, 'Duration': 1, 'Finish': 2.0},\n",
              " {'Job': 'J_3', 'Machine': 'M_1', 'Start': 3.0, 'Duration': 1, 'Finish': 4.0},\n",
              " {'Job': 'J_4', 'Machine': 'M_1', 'Start': 2.0, 'Duration': 1, 'Finish': 3.0},\n",
              " {'Job': 'J_4', 'Machine': 'M_3', 'Start': 3.0, 'Duration': 1, 'Finish': 4.0},\n",
              " {'Job': 'J_4', 'Machine': 'M_1', 'Start': 4.0, 'Duration': 1, 'Finish': 5.0},\n",
              " {'Job': 'J_5', 'Machine': 'M_3', 'Start': 0.0, 'Duration': 1, 'Finish': 1.0},\n",
              " {'Job': 'J_5', 'Machine': 'M_1', 'Start': 1.0, 'Duration': 1, 'Finish': 2.0},\n",
              " {'Job': 'J_5', 'Machine': 'M_2', 'Start': 2.0, 'Duration': 1, 'Finish': 3.0},\n",
              " {'Job': 'J_5', 'Machine': 'M_3', 'Start': 4.0, 'Duration': 1, 'Finish': 5.0}]"
            ]
          },
          "metadata": {},
          "execution_count": 57
        }
      ]
    },
    {
      "cell_type": "code",
      "source": [
        "schedule = pd.DataFrame(results)\n",
        "\n",
        "print('\\nSchedule by Job')\n",
        "print(schedule.sort_values(by=['Job','Start']).set_index(['Job', 'Machine']))\n",
        "\n",
        "print('\\nSchedule by Machine')\n",
        "print(schedule.sort_values(by=['Machine','Start']).set_index(['Machine', 'Job']))"
      ],
      "metadata": {
        "colab": {
          "base_uri": "https://localhost:8080/"
        },
        "id": "68_YoUtAJ6N2",
        "outputId": "55057a0f-538a-43a6-bb49-2aa61bbc6e3a"
      },
      "execution_count": 58,
      "outputs": [
        {
          "output_type": "stream",
          "name": "stdout",
          "text": [
            "\n",
            "Schedule by Job\n",
            "             Start  Duration  Finish\n",
            "Job Machine                         \n",
            "J_1 M_1        0.0         1     1.0\n",
            "    M_3        2.0         1     3.0\n",
            "    M_2        3.0         1     4.0\n",
            "    M_1        5.0         1     6.0\n",
            "J_2 M_2        0.0         1     1.0\n",
            "    M_3        5.0         1     6.0\n",
            "J_3 M_3        1.0         1     2.0\n",
            "    M_1        3.0         1     4.0\n",
            "J_4 M_1        2.0         1     3.0\n",
            "    M_3        3.0         1     4.0\n",
            "    M_1        4.0         1     5.0\n",
            "J_5 M_3        0.0         1     1.0\n",
            "    M_1        1.0         1     2.0\n",
            "    M_2        2.0         1     3.0\n",
            "    M_3        4.0         1     5.0\n",
            "\n",
            "Schedule by Machine\n",
            "             Start  Duration  Finish\n",
            "Machine Job                         \n",
            "M_1     J_1    0.0         1     1.0\n",
            "        J_5    1.0         1     2.0\n",
            "        J_4    2.0         1     3.0\n",
            "        J_3    3.0         1     4.0\n",
            "        J_4    4.0         1     5.0\n",
            "        J_1    5.0         1     6.0\n",
            "M_2     J_2    0.0         1     1.0\n",
            "        J_5    2.0         1     3.0\n",
            "        J_1    3.0         1     4.0\n",
            "M_3     J_5    0.0         1     1.0\n",
            "        J_3    1.0         1     2.0\n",
            "        J_1    2.0         1     3.0\n",
            "        J_4    3.0         1     4.0\n",
            "        J_5    4.0         1     5.0\n",
            "        J_2    5.0         1     6.0\n"
          ]
        }
      ]
    },
    {
      "cell_type": "code",
      "source": [
        "import pandas as pd\n",
        "import matplotlib.pyplot as plt\n",
        "import matplotlib as mpl\n",
        "\n",
        "def visualize(results):\n",
        "\n",
        "    # Преобразование данных в DataFrame\n",
        "    schedule = pd.DataFrame(results)\n",
        "\n",
        "    # Проверка на наличие необходимых столбцов\n",
        "    required_columns = ['Job', 'Machine', 'Start', 'Finish']\n",
        "    for col in required_columns:\n",
        "        if col not in schedule.columns:\n",
        "            raise ValueError(f\"Столбец {col} отсутствует в данных.\")\n",
        "\n",
        "    # Проверка на наличие значений в столбцах Start и Finish\n",
        "    if schedule['Start'].isnull().any() or schedule['Finish'].isnull().any():\n",
        "        raise ValueError(\"В столбцах 'Start' или 'Finish' есть пустые значения.\")\n",
        "\n",
        "    # Получаем уникальные задания и машины\n",
        "    JOBS = sorted(schedule['Job'].unique())\n",
        "    MACHINES = sorted(schedule['Machine'].unique())\n",
        "    makespan = schedule['Finish'].max()\n",
        "\n",
        "    # Настройки стилей для графика\n",
        "    bar_style = {'alpha': 1.0, 'lw': 25, 'solid_capstyle': 'butt'}\n",
        "    text_style = {'color': 'white', 'weight': 'bold', 'ha': 'center', 'va': 'center'}\n",
        "    colors = mpl.cm.Dark2.colors\n",
        "\n",
        "    # Сортировка по Job и Start для правильного отображения\n",
        "    schedule = schedule.sort_values(by=['Job', 'Start'])\n",
        "\n",
        "    # Создание графиков\n",
        "    fig, ax = plt.subplots(2, 1, figsize=(12, 5 + (len(JOBS) + len(MACHINES)) / 4))\n",
        "\n",
        "    # Построение графика для каждого задания\n",
        "    for jdx, j in enumerate(JOBS, 1):\n",
        "        for mdx, m in enumerate(MACHINES, 1):\n",
        "            # Фильтрация данных для текущего Job и Machine\n",
        "            filtered_schedule = schedule[(schedule['Job'] == j) & (schedule['Machine'] == m)]\n",
        "            if not filtered_schedule.empty:\n",
        "                for _, row in filtered_schedule.iterrows():\n",
        "                    xs = row['Start']\n",
        "                    xf = row['Finish']\n",
        "                    ax[0].plot([xs, xf], [jdx] * 2, c=colors[mdx % 7], **bar_style)\n",
        "                    ax[0].text((xs + xf) / 2, jdx, m, **text_style)\n",
        "                    ax[1].plot([xs, xf], [mdx] * 2, c=colors[jdx % 7], **bar_style)\n",
        "                    ax[1].text((xs + xf) / 2, mdx, j, **text_style)\n",
        "\n",
        "    # Настройка графика заданий\n",
        "    ax[0].set_title('Job Schedule')\n",
        "    ax[0].set_ylabel('Job')\n",
        "\n",
        "    # Настройка графика машин\n",
        "    ax[1].set_title('Machine Schedule')\n",
        "    ax[1].set_ylabel('Machine')\n",
        "\n",
        "    for idx, s in enumerate([JOBS, MACHINES]):\n",
        "        ax[idx].set_ylim(0.5, len(s) + 0.5)\n",
        "        ax[idx].set_yticks(range(1, 1 + len(s)))\n",
        "        ax[idx].set_yticklabels(s)\n",
        "        ax[idx].text(makespan, ax[idx].get_ylim()[0] - 0.2, \"{0:0.1f}\".format(makespan), ha='center', va='top')\n",
        "        ax[idx].plot([makespan] * 2, ax[idx].get_ylim(), 'r--')\n",
        "        ax[idx].set_xlabel('Time')\n",
        "        ax[idx].grid(True)\n",
        "\n",
        "    # Применение настроек оформления\n",
        "    fig.tight_layout()\n",
        "\n",
        "# Пример вызова визуализации\n",
        "visualize(results)\n"
      ],
      "metadata": {
        "colab": {
          "base_uri": "https://localhost:8080/",
          "height": 707
        },
        "id": "rB4uZhR1wBuF",
        "outputId": "2188a172-8d8b-45bc-b330-373e768c49f0"
      },
      "execution_count": 59,
      "outputs": [
        {
          "output_type": "display_data",
          "data": {
            "text/plain": [
              "<Figure size 1200x700 with 2 Axes>"
            ],
            "image/png": "[encoded data removed]"
          },
          "metadata": {}
        }
      ]
    },
    {
      "cell_type": "code",
      "source": [],
      "metadata": {
        "id": "6XLrwfm57dwu"
      },
      "execution_count": null,
      "outputs": []
    }
  ]
}